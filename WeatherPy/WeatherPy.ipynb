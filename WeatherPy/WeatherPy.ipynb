{
 "cells": [
  {
   "cell_type": "markdown",
   "metadata": {},
   "source": [
    "# WeatherPy\n",
    "\n",
    "## Starter Code to Generate Random Geographic Coordinates and a List of Cities"
   ]
  },
  {
   "cell_type": "code",
   "execution_count": null,
   "metadata": {},
   "outputs": [],
   "source": [
    "!pip install citipy"
   ]
  },
  {
   "cell_type": "code",
   "execution_count": 1,
   "metadata": {
    "scrolled": true
   },
   "outputs": [],
   "source": [
    "# Dependencies and Setup\n",
    "import matplotlib.pyplot as plt\n",
    "import pandas as pd\n",
    "import numpy as np\n",
    "import requests\n",
    "import time\n",
    "import scipy.stats as sts\n",
    "\n",
    "# Impor the OpenWeatherMap API key\n",
    "from api_keys import weather_api_key\n",
    "\n",
    "# Import citipy to determine the cities based on latitude and longitude\n",
    "from citipy import citipy"
   ]
  },
  {
   "cell_type": "markdown",
   "metadata": {},
   "source": [
    "### Generate the Cities List by Using the `citipy` Library"
   ]
  },
  {
   "cell_type": "code",
   "execution_count": 2,
   "metadata": {},
   "outputs": [
    {
     "name": "stdout",
     "output_type": "stream",
     "text": [
      "Number of cities in the list: 630\n"
     ]
    }
   ],
   "source": [
    "# Empty list for holding the latitude and longitude combinations\n",
    "lat_lngs = []\n",
    "\n",
    "# Empty list for holding the cities names\n",
    "cities = []\n",
    "\n",
    "# Range of latitudes and longitudes\n",
    "lat_range = (-90, 90)\n",
    "lng_range = (-180, 180)\n",
    "\n",
    "# Create a set of random lat and lng combinations\n",
    "lats = np.random.uniform(lat_range[0], lat_range[1], size=1500)\n",
    "lngs = np.random.uniform(lng_range[0], lng_range[1], size=1500)\n",
    "lat_lngs = zip(lats, lngs)\n",
    "\n",
    "# Identify nearest city for each lat, lng combination\n",
    "for lat_lng in lat_lngs:\n",
    "    city = citipy.nearest_city(lat_lng[0], lat_lng[1]).city_name\n",
    "    \n",
    "    # If the city is unique, then add it to a our cities list\n",
    "    if city not in cities:\n",
    "        cities.append(city)\n",
    "\n",
    "# Print the city count to confirm sufficient count\n",
    "print(f\"Number of cities in the list: {len(cities)}\")\n"
   ]
  },
  {
   "cell_type": "markdown",
   "metadata": {},
   "source": [
    "---"
   ]
  },
  {
   "cell_type": "markdown",
   "metadata": {},
   "source": [
    "## Requirement 1: Create Plots to Showcase the Relationship Between Weather Variables and Latitude\n",
    "\n",
    "### Use the OpenWeatherMap API to retrieve weather data from the cities list generated in the started code"
   ]
  },
  {
   "cell_type": "code",
   "execution_count": 3,
   "metadata": {},
   "outputs": [
    {
     "name": "stdout",
     "output_type": "stream",
     "text": [
      "Beginning Data Retrieval     \n",
      "-----------------------------\n",
      "Processing Record 1 of Set 1 | hilo\n",
      "Processing Record 2 of Set 1 | puerto ayacucho\n",
      "Processing Record 3 of Set 1 | jamestown\n",
      "Processing Record 4 of Set 1 | nikolskoye\n",
      "Processing Record 5 of Set 1 | barentsburg\n",
      "City not found. Skipping...\n",
      "Processing Record 6 of Set 1 | arraial do cabo\n",
      "Processing Record 7 of Set 1 | bluff\n",
      "Processing Record 8 of Set 1 | port alfred\n",
      "Processing Record 9 of Set 1 | kawana waters\n",
      "City not found. Skipping...\n",
      "Processing Record 10 of Set 1 | dudinka\n",
      "Processing Record 11 of Set 1 | yatou\n",
      "Processing Record 12 of Set 1 | pevek\n",
      "Processing Record 13 of Set 1 | mitu\n",
      "Processing Record 14 of Set 1 | bethel\n",
      "Processing Record 15 of Set 1 | sangar\n",
      "Processing Record 16 of Set 1 | padang\n",
      "Processing Record 17 of Set 1 | carnarvon\n",
      "Processing Record 18 of Set 1 | saint-philippe\n",
      "Processing Record 19 of Set 1 | samusu\n",
      "City not found. Skipping...\n",
      "Processing Record 20 of Set 1 | mao\n",
      "Processing Record 21 of Set 1 | najran\n",
      "Processing Record 22 of Set 1 | ushuaia\n",
      "Processing Record 23 of Set 1 | esperance\n",
      "Processing Record 24 of Set 1 | moron\n",
      "Processing Record 25 of Set 1 | hobart\n",
      "Processing Record 26 of Set 1 | atuona\n",
      "Processing Record 27 of Set 1 | ribeira grande\n",
      "Processing Record 28 of Set 1 | nagato\n",
      "Processing Record 29 of Set 1 | chifeng\n",
      "Processing Record 30 of Set 1 | mizdah\n",
      "Processing Record 31 of Set 1 | chuy\n",
      "Processing Record 32 of Set 1 | ahipara\n",
      "Processing Record 33 of Set 1 | saint george\n",
      "Processing Record 34 of Set 1 | yellowknife\n",
      "Processing Record 35 of Set 1 | vaini\n",
      "Processing Record 36 of Set 1 | albany\n",
      "Processing Record 37 of Set 1 | fershampenuaz\n",
      "Processing Record 38 of Set 1 | busselton\n",
      "Processing Record 39 of Set 1 | rikitea\n",
      "Processing Record 40 of Set 1 | barbar\n",
      "City not found. Skipping...\n",
      "Processing Record 41 of Set 1 | colon\n",
      "Processing Record 42 of Set 1 | adrar\n",
      "Processing Record 43 of Set 1 | taoudenni\n",
      "Processing Record 44 of Set 1 | punta arenas\n",
      "Processing Record 45 of Set 1 | marcona\n",
      "City not found. Skipping...\n",
      "Processing Record 46 of Set 1 | antalaha\n",
      "Processing Record 47 of Set 1 | bredasdorp\n",
      "Processing Record 48 of Set 1 | touros\n",
      "Processing Record 49 of Set 1 | dikson\n",
      "Processing Record 50 of Set 1 | nouadhibou\n",
      "Processing Record 0 of Set 2 | zyryanka\n",
      "Processing Record 1 of Set 2 | carinhanha\n",
      "Processing Record 2 of Set 2 | nizhneyansk\n",
      "City not found. Skipping...\n",
      "Processing Record 3 of Set 2 | butaritari\n",
      "Processing Record 4 of Set 2 | baherden\n",
      "Processing Record 5 of Set 2 | torbay\n",
      "Processing Record 6 of Set 2 | narsaq\n",
      "Processing Record 7 of Set 2 | urumqi\n",
      "Processing Record 8 of Set 2 | harper\n",
      "Processing Record 9 of Set 2 | tuatapere\n",
      "Processing Record 10 of Set 2 | ambilobe\n",
      "Processing Record 11 of Set 2 | quatre cocos\n",
      "Processing Record 12 of Set 2 | castro\n",
      "Processing Record 13 of Set 2 | cape town\n",
      "Processing Record 14 of Set 2 | kropotkin\n",
      "Processing Record 15 of Set 2 | east london\n",
      "Processing Record 16 of Set 2 | avarua\n",
      "Processing Record 17 of Set 2 | abu jubayhah\n",
      "City not found. Skipping...\n",
      "Processing Record 18 of Set 2 | luderitz\n",
      "Processing Record 19 of Set 2 | narrabri\n",
      "Processing Record 20 of Set 2 | belushya guba\n",
      "City not found. Skipping...\n",
      "Processing Record 21 of Set 2 | kavieng\n",
      "Processing Record 22 of Set 2 | sentyabrskiy\n",
      "City not found. Skipping...\n",
      "Processing Record 23 of Set 2 | victoria\n",
      "Processing Record 24 of Set 2 | taolanaro\n",
      "City not found. Skipping...\n",
      "Processing Record 25 of Set 2 | hasaki\n",
      "Processing Record 26 of Set 2 | byron bay\n",
      "Processing Record 27 of Set 2 | gazanjyk\n",
      "Processing Record 28 of Set 2 | lompoc\n",
      "Processing Record 29 of Set 2 | port elizabeth\n",
      "Processing Record 30 of Set 2 | manhattan beach\n",
      "Processing Record 31 of Set 2 | puerto ayora\n",
      "Processing Record 32 of Set 2 | brae\n",
      "Processing Record 33 of Set 2 | hermanus\n",
      "Processing Record 34 of Set 2 | tuktoyaktuk\n",
      "Processing Record 35 of Set 2 | kapaa\n",
      "Processing Record 36 of Set 2 | comodoro rivadavia\n",
      "Processing Record 37 of Set 2 | souillac\n",
      "Processing Record 38 of Set 2 | cabedelo\n",
      "Processing Record 39 of Set 2 | moerai\n",
      "Processing Record 40 of Set 2 | alice springs\n",
      "Processing Record 41 of Set 2 | eidfjord\n",
      "Processing Record 42 of Set 2 | te anau\n",
      "Processing Record 43 of Set 2 | thompson\n",
      "Processing Record 44 of Set 2 | salisbury\n",
      "Processing Record 45 of Set 2 | yaan\n",
      "Processing Record 46 of Set 2 | kodiak\n",
      "Processing Record 47 of Set 2 | new norfolk\n",
      "Processing Record 48 of Set 2 | hamilton\n",
      "Processing Record 49 of Set 2 | tura\n",
      "Processing Record 0 of Set 3 | esso\n",
      "Processing Record 1 of Set 3 | bollnas\n",
      "Processing Record 2 of Set 3 | karaul\n",
      "City not found. Skipping...\n",
      "Processing Record 3 of Set 3 | arlit\n",
      "Processing Record 4 of Set 3 | ugoofaaru\n",
      "Processing Record 5 of Set 3 | kasongo\n",
      "Processing Record 6 of Set 3 | barrow\n",
      "Processing Record 7 of Set 3 | patacamaya\n",
      "Processing Record 8 of Set 3 | kroya\n",
      "Processing Record 9 of Set 3 | lodwar\n",
      "Processing Record 10 of Set 3 | bay city\n",
      "Processing Record 11 of Set 3 | rio gallegos\n",
      "Processing Record 12 of Set 3 | sitka\n",
      "Processing Record 13 of Set 3 | deputatskiy\n",
      "Processing Record 14 of Set 3 | nanortalik\n",
      "Processing Record 15 of Set 3 | ustye\n",
      "Processing Record 16 of Set 3 | madras\n",
      "Processing Record 17 of Set 3 | constitucion\n",
      "Processing Record 18 of Set 3 | santa luzia\n",
      "Processing Record 19 of Set 3 | alofi\n",
      "Processing Record 20 of Set 3 | mackay\n",
      "Processing Record 21 of Set 3 | tonantins\n",
      "Processing Record 22 of Set 3 | dawei\n",
      "Processing Record 23 of Set 3 | batticaloa\n",
      "Processing Record 24 of Set 3 | fortuna\n",
      "Processing Record 25 of Set 3 | baruun-urt\n",
      "Processing Record 26 of Set 3 | ballina\n",
      "Processing Record 27 of Set 3 | zlobin\n",
      "Processing Record 28 of Set 3 | mount isa\n",
      "Processing Record 29 of Set 3 | balod\n",
      "Processing Record 30 of Set 3 | talnakh\n",
      "Processing Record 31 of Set 3 | makokou\n",
      "Processing Record 32 of Set 3 | upernavik\n",
      "Processing Record 33 of Set 3 | shirakawa\n",
      "Processing Record 34 of Set 3 | samarai\n",
      "Processing Record 35 of Set 3 | boardman\n",
      "Processing Record 36 of Set 3 | pochutla\n",
      "Processing Record 37 of Set 3 | lazo\n",
      "Processing Record 38 of Set 3 | codrington\n",
      "Processing Record 39 of Set 3 | vila franca do campo\n",
      "Processing Record 40 of Set 3 | kosa\n",
      "Processing Record 41 of Set 3 | ancud\n",
      "Processing Record 42 of Set 3 | yanan\n",
      "City not found. Skipping...\n",
      "Processing Record 43 of Set 3 | cidreira\n",
      "Processing Record 44 of Set 3 | stykkisholmur\n",
      "Processing Record 45 of Set 3 | georgetown\n",
      "Processing Record 46 of Set 3 | puro\n",
      "Processing Record 47 of Set 3 | balabac\n",
      "Processing Record 48 of Set 3 | westport\n",
      "Processing Record 49 of Set 3 | praia da vitoria\n",
      "Processing Record 0 of Set 4 | qaanaaq\n",
      "Processing Record 1 of Set 4 | martin\n",
      "Processing Record 2 of Set 4 | lebu\n",
      "Processing Record 3 of Set 4 | cansancao\n",
      "Processing Record 4 of Set 4 | lagoa\n",
      "Processing Record 5 of Set 4 | mataura\n",
      "Processing Record 6 of Set 4 | port blair\n",
      "Processing Record 7 of Set 4 | vardo\n",
      "Processing Record 8 of Set 4 | beeskow\n",
      "Processing Record 9 of Set 4 | bengkulu\n",
      "Processing Record 10 of Set 4 | jumla\n",
      "Processing Record 11 of Set 4 | malanje\n",
      "Processing Record 12 of Set 4 | verkhnevilyuysk\n",
      "Processing Record 13 of Set 4 | bolungarvik\n",
      "City not found. Skipping...\n",
      "Processing Record 14 of Set 4 | san cristobal\n",
      "Processing Record 15 of Set 4 | bobonong\n",
      "City not found. Skipping...\n",
      "Processing Record 16 of Set 4 | norman wells\n",
      "Processing Record 17 of Set 4 | pacific grove\n",
      "Processing Record 18 of Set 4 | san pedro pinula\n",
      "Processing Record 19 of Set 4 | toftir\n",
      "City not found. Skipping...\n",
      "Processing Record 20 of Set 4 | paradwip\n",
      "City not found. Skipping...\n",
      "Processing Record 21 of Set 4 | bereda\n",
      "Processing Record 22 of Set 4 | pisco\n",
      "Processing Record 23 of Set 4 | venice\n",
      "Processing Record 24 of Set 4 | pascagoula\n",
      "Processing Record 25 of Set 4 | florianopolis\n",
      "Processing Record 26 of Set 4 | leningradskiy\n",
      "Processing Record 27 of Set 4 | mareeba\n",
      "Processing Record 28 of Set 4 | mogadouro\n",
      "Processing Record 29 of Set 4 | panino\n",
      "Processing Record 30 of Set 4 | manaus\n",
      "Processing Record 31 of Set 4 | verkhoyansk\n",
      "Processing Record 32 of Set 4 | richards bay\n",
      "Processing Record 33 of Set 4 | beloha\n",
      "Processing Record 34 of Set 4 | mount gambier\n",
      "Processing Record 35 of Set 4 | carthage\n",
      "Processing Record 36 of Set 4 | hithadhoo\n",
      "Processing Record 37 of Set 4 | katsuura\n"
     ]
    },
    {
     "name": "stdout",
     "output_type": "stream",
     "text": [
      "Processing Record 38 of Set 4 | pangnirtung\n",
      "Processing Record 39 of Set 4 | tarudant\n",
      "City not found. Skipping...\n",
      "Processing Record 40 of Set 4 | saldanha\n",
      "Processing Record 41 of Set 4 | faanui\n",
      "Processing Record 42 of Set 4 | santa lucia\n",
      "Processing Record 43 of Set 4 | talara\n",
      "Processing Record 44 of Set 4 | nurota\n",
      "Processing Record 45 of Set 4 | jodiya\n",
      "Processing Record 46 of Set 4 | sao borja\n",
      "Processing Record 47 of Set 4 | ubinskoye\n",
      "Processing Record 48 of Set 4 | pundaguitan\n",
      "Processing Record 49 of Set 4 | sao filipe\n",
      "Processing Record 0 of Set 5 | kaitangata\n",
      "Processing Record 1 of Set 5 | sasovo\n",
      "Processing Record 2 of Set 5 | bonfim\n",
      "Processing Record 3 of Set 5 | yulara\n",
      "Processing Record 4 of Set 5 | tahe\n",
      "Processing Record 5 of Set 5 | skelleftea\n",
      "Processing Record 6 of Set 5 | ixtapa\n",
      "Processing Record 7 of Set 5 | saskylakh\n",
      "Processing Record 8 of Set 5 | yar-sale\n",
      "Processing Record 9 of Set 5 | krasnoselkup\n",
      "Processing Record 10 of Set 5 | namibe\n",
      "Processing Record 11 of Set 5 | punta alta\n",
      "Processing Record 12 of Set 5 | dubti\n",
      "Processing Record 13 of Set 5 | laiagam\n",
      "City not found. Skipping...\n",
      "Processing Record 14 of Set 5 | aklavik\n",
      "Processing Record 15 of Set 5 | san patricio\n",
      "Processing Record 16 of Set 5 | mar del plata\n",
      "Processing Record 17 of Set 5 | isangel\n",
      "Processing Record 18 of Set 5 | altamont\n",
      "Processing Record 19 of Set 5 | rupert\n",
      "Processing Record 20 of Set 5 | leh\n",
      "Processing Record 21 of Set 5 | naze\n",
      "Processing Record 22 of Set 5 | kamenskoye\n",
      "City not found. Skipping...\n",
      "Processing Record 23 of Set 5 | concordia\n",
      "Processing Record 24 of Set 5 | srednekolymsk\n",
      "Processing Record 25 of Set 5 | sao joao da barra\n",
      "Processing Record 26 of Set 5 | nemuro\n",
      "Processing Record 27 of Set 5 | nome\n",
      "Processing Record 28 of Set 5 | masallatah\n",
      "Processing Record 29 of Set 5 | methoni\n",
      "Processing Record 30 of Set 5 | guerrero negro\n",
      "Processing Record 31 of Set 5 | sorland\n",
      "Processing Record 32 of Set 5 | atambua\n",
      "Processing Record 33 of Set 5 | homer\n",
      "Processing Record 34 of Set 5 | amderma\n",
      "City not found. Skipping...\n",
      "Processing Record 35 of Set 5 | illoqqortoormiut\n",
      "City not found. Skipping...\n",
      "Processing Record 36 of Set 5 | gua musang\n",
      "Processing Record 37 of Set 5 | tasiilaq\n",
      "Processing Record 38 of Set 5 | severo-kurilsk\n",
      "Processing Record 39 of Set 5 | wairoa\n",
      "Processing Record 40 of Set 5 | kyren\n",
      "Processing Record 41 of Set 5 | mys shmidta\n",
      "City not found. Skipping...\n",
      "Processing Record 42 of Set 5 | clyde river\n",
      "Processing Record 43 of Set 5 | wanaka\n",
      "Processing Record 44 of Set 5 | rungata\n",
      "City not found. Skipping...\n",
      "Processing Record 45 of Set 5 | mana\n",
      "Processing Record 46 of Set 5 | jejuri\n",
      "Processing Record 47 of Set 5 | vaitupu\n",
      "City not found. Skipping...\n",
      "Processing Record 48 of Set 5 | aleksandrovka\n",
      "Processing Record 49 of Set 5 | muslyumovo\n",
      "Processing Record 0 of Set 6 | sawtell\n",
      "Processing Record 1 of Set 6 | huntingdon\n",
      "Processing Record 2 of Set 6 | porto novo\n",
      "Processing Record 3 of Set 6 | mumbwa\n",
      "Processing Record 4 of Set 6 | pemba\n",
      "Processing Record 5 of Set 6 | dingle\n",
      "Processing Record 6 of Set 6 | rio grande\n",
      "Processing Record 7 of Set 6 | clarence town\n",
      "Processing Record 8 of Set 6 | half moon bay\n",
      "Processing Record 9 of Set 6 | katsina\n",
      "Processing Record 10 of Set 6 | surt\n",
      "Processing Record 11 of Set 6 | prenzlau\n",
      "Processing Record 12 of Set 6 | viedma\n",
      "Processing Record 13 of Set 6 | zaragoza\n",
      "Processing Record 14 of Set 6 | opuwo\n",
      "Processing Record 15 of Set 6 | cumberland\n",
      "Processing Record 16 of Set 6 | birao\n",
      "Processing Record 17 of Set 6 | poim\n",
      "Processing Record 18 of Set 6 | prado\n",
      "Processing Record 19 of Set 6 | thunder bay\n",
      "Processing Record 20 of Set 6 | haines junction\n",
      "Processing Record 21 of Set 6 | patu\n",
      "Processing Record 22 of Set 6 | portland\n",
      "Processing Record 23 of Set 6 | geraldton\n",
      "Processing Record 24 of Set 6 | tiksi\n",
      "Processing Record 25 of Set 6 | grand gaube\n",
      "Processing Record 26 of Set 6 | khatanga\n",
      "Processing Record 27 of Set 6 | fukue\n",
      "Processing Record 28 of Set 6 | fort nelson\n",
      "Processing Record 29 of Set 6 | ndjole\n",
      "Processing Record 30 of Set 6 | bambous virieux\n",
      "Processing Record 31 of Set 6 | dukat\n",
      "Processing Record 32 of Set 6 | yumen\n",
      "Processing Record 33 of Set 6 | rongcheng\n",
      "Processing Record 34 of Set 6 | leo\n",
      "Processing Record 35 of Set 6 | mahebourg\n",
      "Processing Record 36 of Set 6 | ararangua\n",
      "Processing Record 37 of Set 6 | chiheru de jos\n",
      "Processing Record 38 of Set 6 | buchmany\n",
      "Processing Record 39 of Set 6 | ponta do sol\n",
      "Processing Record 40 of Set 6 | petropavlovskoye\n",
      "Processing Record 41 of Set 6 | svetlyy\n",
      "Processing Record 42 of Set 6 | te kauwhata\n",
      "Processing Record 43 of Set 6 | alekseyevsk\n",
      "Processing Record 44 of Set 6 | christchurch\n",
      "Processing Record 45 of Set 6 | taltal\n",
      "Processing Record 46 of Set 6 | yagodnoye\n",
      "Processing Record 47 of Set 6 | port macquarie\n",
      "Processing Record 48 of Set 6 | remanso\n",
      "Processing Record 49 of Set 6 | axim\n",
      "Processing Record 0 of Set 7 | tres arroyos\n",
      "Processing Record 1 of Set 7 | bilibino\n",
      "Processing Record 2 of Set 7 | kaitong\n",
      "Processing Record 3 of Set 7 | makakilo city\n",
      "Processing Record 4 of Set 7 | slave lake\n",
      "Processing Record 5 of Set 7 | cherskiy\n",
      "Processing Record 6 of Set 7 | taburi\n",
      "City not found. Skipping...\n",
      "Processing Record 7 of Set 7 | hwange\n",
      "Processing Record 8 of Set 7 | chokurdakh\n",
      "Processing Record 9 of Set 7 | chateauroux\n",
      "Processing Record 10 of Set 7 | nanga eboko\n",
      "Processing Record 11 of Set 7 | mastic\n",
      "Processing Record 12 of Set 7 | longyearbyen\n",
      "Processing Record 13 of Set 7 | akashi\n",
      "Processing Record 14 of Set 7 | airai\n",
      "Processing Record 15 of Set 7 | karauzyak\n",
      "City not found. Skipping...\n",
      "Processing Record 16 of Set 7 | linhares\n",
      "Processing Record 17 of Set 7 | waipawa\n",
      "Processing Record 18 of Set 7 | saint-augustin\n",
      "Processing Record 19 of Set 7 | changji\n",
      "Processing Record 20 of Set 7 | rostovka\n",
      "Processing Record 21 of Set 7 | isla vista\n",
      "Processing Record 22 of Set 7 | vila velha\n",
      "Processing Record 23 of Set 7 | san juan\n",
      "Processing Record 24 of Set 7 | havoysund\n",
      "Processing Record 25 of Set 7 | trinidad\n",
      "Processing Record 26 of Set 7 | ayorou\n",
      "Processing Record 27 of Set 7 | la primavera\n",
      "Processing Record 28 of Set 7 | galveston\n",
      "Processing Record 29 of Set 7 | hoskote\n",
      "Processing Record 30 of Set 7 | ostrovnoy\n",
      "Processing Record 31 of Set 7 | acapulco\n",
      "Processing Record 32 of Set 7 | ketchikan\n",
      "Processing Record 33 of Set 7 | iquitos\n",
      "Processing Record 34 of Set 7 | lavrentiya\n",
      "Processing Record 35 of Set 7 | locri\n",
      "Processing Record 36 of Set 7 | grand river south east\n",
      "City not found. Skipping...\n",
      "Processing Record 37 of Set 7 | zheleznodorozhnyy\n",
      "Processing Record 38 of Set 7 | egvekinot\n",
      "Processing Record 39 of Set 7 | port dickson\n",
      "Processing Record 40 of Set 7 | kahului\n",
      "Processing Record 41 of Set 7 | ahuimanu\n",
      "Processing Record 42 of Set 7 | mmabatho\n",
      "Processing Record 43 of Set 7 | alyangula\n",
      "Processing Record 44 of Set 7 | port-cartier\n",
      "Processing Record 45 of Set 7 | sheboygan\n",
      "Processing Record 46 of Set 7 | boyolangu\n",
      "Processing Record 47 of Set 7 | labuhan\n",
      "Processing Record 48 of Set 7 | raton\n",
      "Processing Record 49 of Set 7 | ruteng\n",
      "Processing Record 0 of Set 8 | vostok\n",
      "Processing Record 1 of Set 8 | poum\n",
      "Processing Record 2 of Set 8 | san luis\n",
      "Processing Record 3 of Set 8 | gamba\n",
      "Processing Record 4 of Set 8 | zhaotong\n",
      "Processing Record 5 of Set 8 | bubaque\n",
      "Processing Record 6 of Set 8 | cap-aux-meules\n",
      "Processing Record 7 of Set 8 | doctor pedro p. pena\n",
      "City not found. Skipping...\n",
      "Processing Record 8 of Set 8 | saint-francois\n",
      "Processing Record 9 of Set 8 | tsihombe\n",
      "City not found. Skipping...\n",
      "Processing Record 10 of Set 8 | kudahuvadhoo\n",
      "Processing Record 11 of Set 8 | faro\n",
      "Processing Record 12 of Set 8 | khani\n",
      "Processing Record 13 of Set 8 | north bend\n",
      "Processing Record 14 of Set 8 | kununurra\n",
      "Processing Record 15 of Set 8 | karratha\n",
      "Processing Record 16 of Set 8 | almaznyy\n",
      "Processing Record 17 of Set 8 | wawa\n",
      "Processing Record 18 of Set 8 | high level\n",
      "Processing Record 19 of Set 8 | sao felix do xingu\n",
      "Processing Record 20 of Set 8 | korla\n",
      "Processing Record 21 of Set 8 | sahrak\n",
      "City not found. Skipping...\n",
      "Processing Record 22 of Set 8 | bakel\n",
      "Processing Record 23 of Set 8 | payo\n",
      "Processing Record 24 of Set 8 | hobyo\n",
      "Processing Record 25 of Set 8 | konstantinovka\n",
      "Processing Record 26 of Set 8 | mpongwe\n"
     ]
    },
    {
     "name": "stdout",
     "output_type": "stream",
     "text": [
      "Processing Record 27 of Set 8 | hambantota\n",
      "Processing Record 28 of Set 8 | nioro\n",
      "Processing Record 29 of Set 8 | raudeberg\n",
      "Processing Record 30 of Set 8 | beringovskiy\n",
      "Processing Record 31 of Set 8 | trincomalee\n",
      "Processing Record 32 of Set 8 | kruisfontein\n",
      "Processing Record 33 of Set 8 | northam\n",
      "Processing Record 34 of Set 8 | roald\n",
      "Processing Record 35 of Set 8 | santiago\n",
      "Processing Record 36 of Set 8 | lockhart\n",
      "Processing Record 37 of Set 8 | kismayo\n",
      "Processing Record 38 of Set 8 | margate\n",
      "Processing Record 39 of Set 8 | rio cuarto\n",
      "Processing Record 40 of Set 8 | porto santo\n",
      "Processing Record 41 of Set 8 | atakpame\n",
      "Processing Record 42 of Set 8 | mantua\n",
      "Processing Record 43 of Set 8 | tumannyy\n",
      "City not found. Skipping...\n",
      "Processing Record 44 of Set 8 | zhuanghe\n",
      "Processing Record 45 of Set 8 | quelimane\n",
      "Processing Record 46 of Set 8 | a\n",
      "City not found. Skipping...\n",
      "Processing Record 47 of Set 8 | salalah\n",
      "Processing Record 48 of Set 8 | daru\n",
      "Processing Record 49 of Set 8 | nanakuli\n",
      "Processing Record 0 of Set 9 | rawson\n",
      "Processing Record 1 of Set 9 | matara\n",
      "Processing Record 2 of Set 9 | abhaynagar\n",
      "Processing Record 3 of Set 9 | amazar\n",
      "Processing Record 4 of Set 9 | veraval\n",
      "Processing Record 5 of Set 9 | hohhot\n",
      "Processing Record 6 of Set 9 | toronto\n",
      "Processing Record 7 of Set 9 | banda aceh\n",
      "Processing Record 8 of Set 9 | pavda\n",
      "City not found. Skipping...\n",
      "Processing Record 9 of Set 9 | minden\n",
      "Processing Record 10 of Set 9 | ojinaga\n",
      "Processing Record 11 of Set 9 | den helder\n",
      "Processing Record 12 of Set 9 | konigs wusterhausen\n",
      "Processing Record 13 of Set 9 | attawapiskat\n",
      "City not found. Skipping...\n",
      "Processing Record 14 of Set 9 | kushima\n",
      "Processing Record 15 of Set 9 | jawhar\n",
      "Processing Record 16 of Set 9 | kukuna\n",
      "Processing Record 17 of Set 9 | kalangala\n",
      "Processing Record 18 of Set 9 | puntarenas\n",
      "Processing Record 19 of Set 9 | abay\n",
      "Processing Record 20 of Set 9 | sierpc\n",
      "Processing Record 21 of Set 9 | shima\n",
      "Processing Record 22 of Set 9 | tayu\n",
      "Processing Record 23 of Set 9 | port lincoln\n",
      "Processing Record 24 of Set 9 | meulaboh\n",
      "Processing Record 25 of Set 9 | vanimo\n",
      "Processing Record 26 of Set 9 | kimparana\n",
      "Processing Record 27 of Set 9 | magistralnyy\n",
      "Processing Record 28 of Set 9 | port augusta\n",
      "Processing Record 29 of Set 9 | khandyga\n",
      "Processing Record 30 of Set 9 | camana\n",
      "Processing Record 31 of Set 9 | gizo\n",
      "Processing Record 32 of Set 9 | russell\n",
      "Processing Record 33 of Set 9 | bowen\n",
      "Processing Record 34 of Set 9 | halalo\n",
      "City not found. Skipping...\n",
      "Processing Record 35 of Set 9 | urdzhar\n",
      "City not found. Skipping...\n",
      "Processing Record 36 of Set 9 | cervignano del friuli\n",
      "Processing Record 37 of Set 9 | sturgeon bay\n",
      "Processing Record 38 of Set 9 | havelock\n",
      "Processing Record 39 of Set 9 | arman\n",
      "Processing Record 40 of Set 9 | pitea\n",
      "Processing Record 41 of Set 9 | kurikka\n",
      "Processing Record 42 of Set 9 | el carrizo\n",
      "Processing Record 43 of Set 9 | cabo san lucas\n",
      "Processing Record 44 of Set 9 | coihaique\n",
      "Processing Record 45 of Set 9 | dunedin\n",
      "Processing Record 46 of Set 9 | simao\n",
      "Processing Record 47 of Set 9 | ternate\n",
      "Processing Record 48 of Set 9 | qandala\n",
      "Processing Record 49 of Set 9 | sungai siput utara\n",
      "City not found. Skipping...\n",
      "Processing Record 0 of Set 10 | muros\n",
      "Processing Record 1 of Set 10 | hue\n",
      "Processing Record 2 of Set 10 | toyooka\n",
      "Processing Record 3 of Set 10 | nayoro\n",
      "Processing Record 4 of Set 10 | deniliquin\n",
      "Processing Record 5 of Set 10 | san quintin\n",
      "Processing Record 6 of Set 10 | synya\n",
      "Processing Record 7 of Set 10 | banjar\n",
      "Processing Record 8 of Set 10 | la plata\n",
      "Processing Record 9 of Set 10 | lorengau\n",
      "Processing Record 10 of Set 10 | kalmunai\n",
      "Processing Record 11 of Set 10 | jalu\n",
      "Processing Record 12 of Set 10 | namatanai\n",
      "Processing Record 13 of Set 10 | mocuba\n",
      "Processing Record 14 of Set 10 | astoria\n",
      "Processing Record 15 of Set 10 | barra\n",
      "Processing Record 16 of Set 10 | san policarpo\n",
      "Processing Record 17 of Set 10 | araouane\n",
      "Processing Record 18 of Set 10 | vrable\n",
      "Processing Record 19 of Set 10 | provideniya\n",
      "Processing Record 20 of Set 10 | impfondo\n",
      "Processing Record 21 of Set 10 | port hardy\n",
      "Processing Record 22 of Set 10 | saint-joseph\n",
      "Processing Record 23 of Set 10 | granja\n",
      "Processing Record 24 of Set 10 | uitenhage\n",
      "Processing Record 25 of Set 10 | oktyabrskoye\n",
      "Processing Record 26 of Set 10 | colima\n",
      "Processing Record 27 of Set 10 | laguna\n",
      "Processing Record 28 of Set 10 | ayan\n",
      "Processing Record 29 of Set 10 | mahajanga\n",
      "Processing Record 30 of Set 10 | mrirt\n",
      "City not found. Skipping...\n",
      "Processing Record 31 of Set 10 | kolyvan\n",
      "Processing Record 32 of Set 10 | baykit\n",
      "Processing Record 33 of Set 10 | lydenburg\n",
      "Processing Record 34 of Set 10 | trairi\n",
      "Processing Record 35 of Set 10 | petersburg\n",
      "Processing Record 36 of Set 10 | panlaitan\n",
      "Processing Record 37 of Set 10 | sao jose da coroa grande\n",
      "Processing Record 38 of Set 10 | shirokiy\n",
      "Processing Record 39 of Set 10 | abu dhabi\n",
      "Processing Record 40 of Set 10 | zhangjiakou\n",
      "Processing Record 41 of Set 10 | morondava\n",
      "Processing Record 42 of Set 10 | komsomolskiy\n",
      "Processing Record 43 of Set 10 | severo-yeniseyskiy\n",
      "Processing Record 44 of Set 10 | colares\n",
      "Processing Record 45 of Set 10 | skalistyy\n",
      "City not found. Skipping...\n",
      "Processing Record 46 of Set 10 | sistranda\n",
      "Processing Record 47 of Set 10 | tornio\n",
      "Processing Record 48 of Set 10 | zhirnov\n",
      "Processing Record 49 of Set 10 | bachatskiy\n",
      "Processing Record 0 of Set 11 | tir pol\n",
      "City not found. Skipping...\n",
      "Processing Record 1 of Set 11 | kemise\n",
      "Processing Record 2 of Set 11 | lac du bonnet\n",
      "Processing Record 3 of Set 11 | smithers\n",
      "Processing Record 4 of Set 11 | mweka\n",
      "Processing Record 5 of Set 11 | daura\n",
      "Processing Record 6 of Set 11 | buariki\n",
      "City not found. Skipping...\n",
      "Processing Record 7 of Set 11 | usagara\n",
      "Processing Record 8 of Set 11 | la lira\n",
      "Processing Record 9 of Set 11 | caririacu\n",
      "Processing Record 10 of Set 11 | salta\n",
      "Processing Record 11 of Set 11 | batagay\n",
      "Processing Record 12 of Set 11 | los llanos de aridane\n",
      "Processing Record 13 of Set 11 | bulaevo\n",
      "Processing Record 14 of Set 11 | avallon\n",
      "Processing Record 15 of Set 11 | westpunt\n",
      "City not found. Skipping...\n",
      "Processing Record 16 of Set 11 | moyale\n",
      "Processing Record 17 of Set 11 | dom pedrito\n",
      "Processing Record 18 of Set 11 | shingu\n",
      "Processing Record 19 of Set 11 | sutton\n",
      "Processing Record 20 of Set 11 | bonthe\n",
      "Processing Record 21 of Set 11 | kilindoni\n",
      "Processing Record 22 of Set 11 | vila do maio\n",
      "Processing Record 23 of Set 11 | tabas\n",
      "Processing Record 24 of Set 11 | doha\n",
      "Processing Record 25 of Set 11 | tangzhai\n",
      "Processing Record 26 of Set 11 | enterprise\n",
      "Processing Record 27 of Set 11 | florina\n",
      "Processing Record 28 of Set 11 | havre-saint-pierre\n",
      "Processing Record 29 of Set 11 | sola\n",
      "Processing Record 30 of Set 11 | kenai\n",
      "Processing Record 31 of Set 11 | lebanon\n",
      "Processing Record 32 of Set 11 | fairbanks\n",
      "Processing Record 33 of Set 11 | pontianak\n",
      "Processing Record 34 of Set 11 | vilhena\n",
      "Processing Record 35 of Set 11 | iqaluit\n",
      "Processing Record 36 of Set 11 | anadyr\n",
      "Processing Record 37 of Set 11 | koulikoro\n",
      "Processing Record 38 of Set 11 | asau\n",
      "Processing Record 39 of Set 11 | toliary\n",
      "City not found. Skipping...\n",
      "Processing Record 40 of Set 11 | lodingen\n",
      "Processing Record 41 of Set 11 | prijepolje\n",
      "Processing Record 42 of Set 11 | beisfjord\n",
      "Processing Record 43 of Set 11 | albi\n",
      "Processing Record 44 of Set 11 | itarema\n",
      "Processing Record 45 of Set 11 | mecca\n",
      "Processing Record 46 of Set 11 | tobane\n",
      "Processing Record 47 of Set 11 | saint stephen\n",
      "Processing Record 48 of Set 11 | abha\n",
      "Processing Record 49 of Set 11 | tual\n",
      "Processing Record 0 of Set 12 | san jose de rio tinto\n",
      "Processing Record 1 of Set 12 | jiancheng\n",
      "Processing Record 2 of Set 12 | caravelas\n",
      "Processing Record 3 of Set 12 | punta gorda\n",
      "Processing Record 4 of Set 12 | zlatoustovsk\n",
      "City not found. Skipping...\n",
      "Processing Record 5 of Set 12 | middelburg\n",
      "Processing Record 6 of Set 12 | nola\n",
      "Processing Record 7 of Set 12 | nador\n",
      "Processing Record 8 of Set 12 | mangalia\n",
      "Processing Record 9 of Set 12 | nelson bay\n",
      "Processing Record 10 of Set 12 | ingham\n",
      "Processing Record 11 of Set 12 | basoko\n",
      "Processing Record 12 of Set 12 | cochrane\n",
      "Processing Record 13 of Set 12 | kharp\n",
      "Processing Record 14 of Set 12 | mahina\n"
     ]
    },
    {
     "name": "stdout",
     "output_type": "stream",
     "text": [
      "Processing Record 15 of Set 12 | naftah\n",
      "City not found. Skipping...\n",
      "Processing Record 16 of Set 12 | ilulissat\n",
      "Processing Record 17 of Set 12 | ndouci\n",
      "City not found. Skipping...\n",
      "Processing Record 18 of Set 12 | wilmington\n",
      "Processing Record 19 of Set 12 | murmashi\n",
      "Processing Record 20 of Set 12 | beian\n",
      "Processing Record 21 of Set 12 | bathsheba\n",
      "Processing Record 22 of Set 12 | ca mau\n",
      "Processing Record 23 of Set 12 | linfen\n",
      "Processing Record 24 of Set 12 | praia\n",
      "Processing Record 25 of Set 12 | saint anthony\n",
      "Processing Record 26 of Set 12 | huatulco\n",
      "Processing Record 27 of Set 12 | shangrao\n",
      "Processing Record 28 of Set 12 | naica\n",
      "Processing Record 29 of Set 12 | pinsk\n",
      "Processing Record 30 of Set 12 | henties bay\n",
      "Processing Record 31 of Set 12 | lano\n",
      "Processing Record 32 of Set 12 | belyy yar\n",
      "Processing Record 33 of Set 12 | okhotsk\n",
      "Processing Record 34 of Set 12 | flinders\n",
      "Processing Record 35 of Set 12 | apac\n",
      "Processing Record 36 of Set 12 | marsh harbour\n",
      "Processing Record 37 of Set 12 | asmara\n",
      "Processing Record 38 of Set 12 | monrovia\n",
      "Processing Record 39 of Set 12 | beira\n",
      "Processing Record 40 of Set 12 | cape canaveral\n",
      "Processing Record 41 of Set 12 | jalingo\n",
      "Processing Record 42 of Set 12 | moindou\n",
      "Processing Record 43 of Set 12 | la sarre\n",
      "Processing Record 44 of Set 12 | savalou\n",
      "Processing Record 45 of Set 12 | bilma\n",
      "Processing Record 46 of Set 12 | carutapera\n",
      "Processing Record 47 of Set 12 | alejandria\n",
      "Processing Record 48 of Set 12 | emba\n",
      "Processing Record 49 of Set 12 | la llanada\n",
      "Processing Record 0 of Set 13 | pangai\n",
      "Processing Record 1 of Set 13 | saraipali\n",
      "Processing Record 2 of Set 13 | ituango\n",
      "Processing Record 3 of Set 13 | serebryanyy bor\n",
      "Processing Record 4 of Set 13 | murwillumbah\n",
      "Processing Record 5 of Set 13 | santiago del estero\n",
      "Processing Record 6 of Set 13 | neiafu\n",
      "Processing Record 7 of Set 13 | goderich\n",
      "Processing Record 8 of Set 13 | gushikawa\n",
      "Processing Record 9 of Set 13 | shimoda\n",
      "Processing Record 10 of Set 13 | turkistan\n",
      "Processing Record 11 of Set 13 | chulman\n",
      "Processing Record 12 of Set 13 | kerouane\n",
      "Processing Record 13 of Set 13 | rafai\n",
      "Processing Record 14 of Set 13 | letlhakane\n",
      "Processing Record 15 of Set 13 | kuminskiy\n",
      "Processing Record 16 of Set 13 | ponta delgada\n",
      "Processing Record 17 of Set 13 | skibbereen\n",
      "Processing Record 18 of Set 13 | kolda\n",
      "Processing Record 19 of Set 13 | trelew\n",
      "Processing Record 20 of Set 13 | leshukonskoye\n",
      "Processing Record 21 of Set 13 | baran\n",
      "Processing Record 22 of Set 13 | zolotinka\n",
      "City not found. Skipping...\n",
      "Processing Record 23 of Set 13 | saint-louis\n",
      "Processing Record 24 of Set 13 | palasa\n",
      "Processing Record 25 of Set 13 | penal\n",
      "Processing Record 26 of Set 13 | hami\n",
      "Processing Record 27 of Set 13 | tazovskiy\n",
      "Processing Record 28 of Set 13 | vaitape\n",
      "Processing Record 29 of Set 13 | valjala\n",
      "City not found. Skipping...\n",
      "-----------------------------\n",
      "Data Retrieval Complete      \n",
      "-----------------------------\n"
     ]
    }
   ],
   "source": [
    "# Set the API base URL\n",
    "# url = \"https://api.openweathermap.org/data/2.5/weather?units=Imperial&APPID=\" + weather_api_key\n",
    "url = \"http://api.openweathermap.org/data/2.5/weather?\"\n",
    "\n",
    "units = \"Imperial\"\n",
    "api_key = weather_api_key \n",
    "# Define an empty list to fetch the weather data for each city\n",
    "city_data = []\n",
    "\n",
    "# Print to logger\n",
    "print(\"Beginning Data Retrieval     \")\n",
    "print(\"-----------------------------\")\n",
    "\n",
    "# Create counters\n",
    "record_count = 1\n",
    "set_count = 1\n",
    "\n",
    "# Loop through all the cities in our list to fetch weather data\n",
    "for i, city in enumerate(cities):\n",
    "        \n",
    "    # Group cities in sets of 50 for logging purposes\n",
    "    if (i % 50 == 0 and i >= 50):\n",
    "        set_count += 1\n",
    "        record_count = 0\n",
    "        \n",
    "    # Create endpoint URL with each city\n",
    "    city_url = f\"{url}appid={api_key}&units={units}&q=\"\n",
    "#         city_url = url + \"&q=\" + i + city.replace(\" \", \"+\")\n",
    "    \n",
    "    # Log the url, record, and set numbers\n",
    "    print(\"Processing Record %s of Set %s | %s\" % (record_count, set_count, city))\n",
    "\n",
    "    # Add 1 to the record count\n",
    "    record_count += 1\n",
    "\n",
    "    # Run an API request for each of the cities\n",
    "    try:\n",
    "        # Parse the JSON and retrieve data\n",
    "        city_weather = requests.get(city_url + city).json()\n",
    "        \n",
    "        #print(city_weather)\n",
    "        # Parse out latitude, longitude, max temp, humidity, cloudiness, wind speed, country, and date\n",
    "        city_lat = city_weather[\"coord\"][\"lat\"]\n",
    "#         print(city_lat)\n",
    "        city_lng = city_weather[\"coord\"][\"lon\"]\n",
    "#         print(city_lng)\n",
    "        city_max_temp = city_weather[\"main\"][\"temp_max\"]\n",
    "#         print(city_max_temp)\n",
    "        city_humidity = city_weather[\"main\"][\"humidity\"]\n",
    "#         print(city_humidity)\n",
    "        city_clouds = city_weather[\"clouds\"][\"all\"]\n",
    "#         print(city_clouds)\n",
    "        city_wind = city_weather[\"wind\"][\"speed\"]\n",
    "#         print(city_wind)\n",
    "        city_country = city_weather[\"sys\"][\"country\"]\n",
    "#         print(city_country)\n",
    "#         city_date = datetime.utcfromtimestamp(city_weather[\"dt\"]).strftime('%Y-%m-%d %H:%M:%S')\n",
    "        \n",
    "        city_date = city_weather[\"dt\"]\n",
    "#         print(city_date)\n",
    "        # Append the City information into city_data list\n",
    "        city_data.append({\"City\": city, \n",
    "                          \"Lat\": city_lat, \n",
    "                          \"Lng\": city_lng, \n",
    "                          \"Max Temp\": city_max_temp,\n",
    "                          \"Humidity\": city_humidity,\n",
    "                          \"Cloudiness\": city_clouds,\n",
    "                          \"Wind Speed\": city_wind,\n",
    "                          \"Country\": city_country,\n",
    "                          \"Date\": city_date\n",
    "                         })\n",
    "        time.sleep(1)\n",
    "\n",
    "    # If an error is experienced, skip the city\n",
    "    except:\n",
    "        print(\"City not found. Skipping...\")\n",
    "        pass\n",
    "              \n",
    "# Indicate that Data Loading is complete \n",
    "print(\"-----------------------------\")\n",
    "print(\"Data Retrieval Complete      \")\n",
    "print(\"-----------------------------\")"
   ]
  },
  {
   "cell_type": "code",
   "execution_count": 4,
   "metadata": {},
   "outputs": [
    {
     "data": {
      "text/plain": [
       "City          582\n",
       "Lat           582\n",
       "Lng           582\n",
       "Max Temp      582\n",
       "Humidity      582\n",
       "Cloudiness    582\n",
       "Wind Speed    582\n",
       "Country       582\n",
       "Date          582\n",
       "dtype: int64"
      ]
     },
     "execution_count": 4,
     "metadata": {},
     "output_type": "execute_result"
    }
   ],
   "source": [
    "# Convert the cities weather data into a Pandas DataFrame\n",
    "city_data_df = pd.DataFrame(city_data)\n",
    "\n",
    "# Show Record Count\n",
    "city_data_df.count()"
   ]
  },
  {
   "cell_type": "code",
   "execution_count": 5,
   "metadata": {},
   "outputs": [
    {
     "data": {
      "text/html": [
       "<div>\n",
       "<style scoped>\n",
       "    .dataframe tbody tr th:only-of-type {\n",
       "        vertical-align: middle;\n",
       "    }\n",
       "\n",
       "    .dataframe tbody tr th {\n",
       "        vertical-align: top;\n",
       "    }\n",
       "\n",
       "    .dataframe thead th {\n",
       "        text-align: right;\n",
       "    }\n",
       "</style>\n",
       "<table border=\"1\" class=\"dataframe\">\n",
       "  <thead>\n",
       "    <tr style=\"text-align: right;\">\n",
       "      <th></th>\n",
       "      <th>City</th>\n",
       "      <th>Lat</th>\n",
       "      <th>Lng</th>\n",
       "      <th>Max Temp</th>\n",
       "      <th>Humidity</th>\n",
       "      <th>Cloudiness</th>\n",
       "      <th>Wind Speed</th>\n",
       "      <th>Country</th>\n",
       "      <th>Date</th>\n",
       "    </tr>\n",
       "  </thead>\n",
       "  <tbody>\n",
       "    <tr>\n",
       "      <th>0</th>\n",
       "      <td>hilo</td>\n",
       "      <td>19.7297</td>\n",
       "      <td>-155.0900</td>\n",
       "      <td>79.11</td>\n",
       "      <td>76</td>\n",
       "      <td>0</td>\n",
       "      <td>5.75</td>\n",
       "      <td>US</td>\n",
       "      <td>1671301957</td>\n",
       "    </tr>\n",
       "    <tr>\n",
       "      <th>1</th>\n",
       "      <td>puerto ayacucho</td>\n",
       "      <td>5.6639</td>\n",
       "      <td>-67.6236</td>\n",
       "      <td>90.21</td>\n",
       "      <td>44</td>\n",
       "      <td>48</td>\n",
       "      <td>4.21</td>\n",
       "      <td>VE</td>\n",
       "      <td>1671301958</td>\n",
       "    </tr>\n",
       "    <tr>\n",
       "      <th>2</th>\n",
       "      <td>jamestown</td>\n",
       "      <td>42.0970</td>\n",
       "      <td>-79.2353</td>\n",
       "      <td>33.39</td>\n",
       "      <td>59</td>\n",
       "      <td>100</td>\n",
       "      <td>10.36</td>\n",
       "      <td>US</td>\n",
       "      <td>1671301842</td>\n",
       "    </tr>\n",
       "    <tr>\n",
       "      <th>3</th>\n",
       "      <td>nikolskoye</td>\n",
       "      <td>59.7035</td>\n",
       "      <td>30.7861</td>\n",
       "      <td>-4.43</td>\n",
       "      <td>100</td>\n",
       "      <td>65</td>\n",
       "      <td>0.22</td>\n",
       "      <td>RU</td>\n",
       "      <td>1671301961</td>\n",
       "    </tr>\n",
       "    <tr>\n",
       "      <th>4</th>\n",
       "      <td>arraial do cabo</td>\n",
       "      <td>-22.9661</td>\n",
       "      <td>-42.0278</td>\n",
       "      <td>76.96</td>\n",
       "      <td>83</td>\n",
       "      <td>75</td>\n",
       "      <td>18.41</td>\n",
       "      <td>BR</td>\n",
       "      <td>1671301962</td>\n",
       "    </tr>\n",
       "  </tbody>\n",
       "</table>\n",
       "</div>"
      ],
      "text/plain": [
       "              City      Lat       Lng  Max Temp  Humidity  Cloudiness  \\\n",
       "0             hilo  19.7297 -155.0900     79.11        76           0   \n",
       "1  puerto ayacucho   5.6639  -67.6236     90.21        44          48   \n",
       "2        jamestown  42.0970  -79.2353     33.39        59         100   \n",
       "3       nikolskoye  59.7035   30.7861     -4.43       100          65   \n",
       "4  arraial do cabo -22.9661  -42.0278     76.96        83          75   \n",
       "\n",
       "   Wind Speed Country        Date  \n",
       "0        5.75      US  1671301957  \n",
       "1        4.21      VE  1671301958  \n",
       "2       10.36      US  1671301842  \n",
       "3        0.22      RU  1671301961  \n",
       "4       18.41      BR  1671301962  "
      ]
     },
     "execution_count": 5,
     "metadata": {},
     "output_type": "execute_result"
    }
   ],
   "source": [
    "# Display sample data\n",
    "city_data_df.head()"
   ]
  },
  {
   "cell_type": "code",
   "execution_count": 6,
   "metadata": {},
   "outputs": [],
   "source": [
    "# Export the City_Data into a csv\n",
    "city_data_df.to_csv(\"../output_data/cities.csv\", index_label=\"City_ID\")"
   ]
  },
  {
   "cell_type": "code",
   "execution_count": 20,
   "metadata": {},
   "outputs": [
    {
     "data": {
      "text/html": [
       "<div>\n",
       "<style scoped>\n",
       "    .dataframe tbody tr th:only-of-type {\n",
       "        vertical-align: middle;\n",
       "    }\n",
       "\n",
       "    .dataframe tbody tr th {\n",
       "        vertical-align: top;\n",
       "    }\n",
       "\n",
       "    .dataframe thead th {\n",
       "        text-align: right;\n",
       "    }\n",
       "</style>\n",
       "<table border=\"1\" class=\"dataframe\">\n",
       "  <thead>\n",
       "    <tr style=\"text-align: right;\">\n",
       "      <th></th>\n",
       "      <th>City</th>\n",
       "      <th>Lat</th>\n",
       "      <th>Lng</th>\n",
       "      <th>Max Temp</th>\n",
       "      <th>Humidity</th>\n",
       "      <th>Cloudiness</th>\n",
       "      <th>Wind Speed</th>\n",
       "      <th>Country</th>\n",
       "      <th>Date</th>\n",
       "    </tr>\n",
       "    <tr>\n",
       "      <th>City_ID</th>\n",
       "      <th></th>\n",
       "      <th></th>\n",
       "      <th></th>\n",
       "      <th></th>\n",
       "      <th></th>\n",
       "      <th></th>\n",
       "      <th></th>\n",
       "      <th></th>\n",
       "      <th></th>\n",
       "    </tr>\n",
       "  </thead>\n",
       "  <tbody>\n",
       "    <tr>\n",
       "      <th>0</th>\n",
       "      <td>hilo</td>\n",
       "      <td>19.7297</td>\n",
       "      <td>-155.0900</td>\n",
       "      <td>79.11</td>\n",
       "      <td>76</td>\n",
       "      <td>0</td>\n",
       "      <td>5.75</td>\n",
       "      <td>US</td>\n",
       "      <td>1671301957</td>\n",
       "    </tr>\n",
       "    <tr>\n",
       "      <th>1</th>\n",
       "      <td>puerto ayacucho</td>\n",
       "      <td>5.6639</td>\n",
       "      <td>-67.6236</td>\n",
       "      <td>90.21</td>\n",
       "      <td>44</td>\n",
       "      <td>48</td>\n",
       "      <td>4.21</td>\n",
       "      <td>VE</td>\n",
       "      <td>1671301958</td>\n",
       "    </tr>\n",
       "    <tr>\n",
       "      <th>2</th>\n",
       "      <td>jamestown</td>\n",
       "      <td>42.0970</td>\n",
       "      <td>-79.2353</td>\n",
       "      <td>33.39</td>\n",
       "      <td>59</td>\n",
       "      <td>100</td>\n",
       "      <td>10.36</td>\n",
       "      <td>US</td>\n",
       "      <td>1671301842</td>\n",
       "    </tr>\n",
       "    <tr>\n",
       "      <th>3</th>\n",
       "      <td>nikolskoye</td>\n",
       "      <td>59.7035</td>\n",
       "      <td>30.7861</td>\n",
       "      <td>-4.43</td>\n",
       "      <td>100</td>\n",
       "      <td>65</td>\n",
       "      <td>0.22</td>\n",
       "      <td>RU</td>\n",
       "      <td>1671301961</td>\n",
       "    </tr>\n",
       "    <tr>\n",
       "      <th>4</th>\n",
       "      <td>arraial do cabo</td>\n",
       "      <td>-22.9661</td>\n",
       "      <td>-42.0278</td>\n",
       "      <td>76.96</td>\n",
       "      <td>83</td>\n",
       "      <td>75</td>\n",
       "      <td>18.41</td>\n",
       "      <td>BR</td>\n",
       "      <td>1671301962</td>\n",
       "    </tr>\n",
       "  </tbody>\n",
       "</table>\n",
       "</div>"
      ],
      "text/plain": [
       "                    City      Lat       Lng  Max Temp  Humidity  Cloudiness  \\\n",
       "City_ID                                                                       \n",
       "0                   hilo  19.7297 -155.0900     79.11        76           0   \n",
       "1        puerto ayacucho   5.6639  -67.6236     90.21        44          48   \n",
       "2              jamestown  42.0970  -79.2353     33.39        59         100   \n",
       "3             nikolskoye  59.7035   30.7861     -4.43       100          65   \n",
       "4        arraial do cabo -22.9661  -42.0278     76.96        83          75   \n",
       "\n",
       "         Wind Speed Country        Date  \n",
       "City_ID                                  \n",
       "0              5.75      US  1671301957  \n",
       "1              4.21      VE  1671301958  \n",
       "2             10.36      US  1671301842  \n",
       "3              0.22      RU  1671301961  \n",
       "4             18.41      BR  1671301962  "
      ]
     },
     "execution_count": 20,
     "metadata": {},
     "output_type": "execute_result"
    }
   ],
   "source": [
    "# Read saved data\n",
    "city_data_df = pd.read_csv(\"../output_data/cities.csv\", index_col=\"City_ID\")\n",
    "\n",
    "# Display sample data\n",
    "city_data_df.head()\n"
   ]
  },
  {
   "cell_type": "markdown",
   "metadata": {},
   "source": [
    "### Create the Scatter Plots Requested\n",
    "\n",
    "#### Latitude Vs. Temperature"
   ]
  },
  {
   "cell_type": "code",
   "execution_count": 80,
   "metadata": {
    "tags": []
   },
   "outputs": [
    {
     "data": {
      "image/png": "[encoded data removed]",
      "text/plain": [
       "<Figure size 432x288 with 1 Axes>"
      ]
     },
     "metadata": {
      "needs_background": "light"
     },
     "output_type": "display_data"
    }
   ],
   "source": [
    "# Build scatter plot for latitude vs. temperature\n",
    "# YOUR CODE HERE\n",
    "x = city_data_df.iloc[:, 2]\n",
    "y = city_data_df.iloc[:, 3]\n",
    "plt.scatter(x,y)\n",
    "# Incorporate the other graph properties\n",
    "# YOUR CODE HERE\n",
    "\n",
    "plt.xlabel('Latitude')\n",
    "plt.ylabel('Max Temperature (C)')\n",
    "plt.title(\"City Latitude vs. Max Temperature\")\n",
    "\n",
    "# Save the figure\n",
    "plt.savefig(\"../output_data/Fig1.png\")\n",
    "\n",
    "# Show plot\n",
    "plt.show()"
   ]
  },
  {
   "cell_type": "markdown",
   "metadata": {},
   "source": [
    "#### Latitude Vs. Humidity"
   ]
  },
  {
   "cell_type": "code",
   "execution_count": 81,
   "metadata": {},
   "outputs": [
    {
     "data": {
      "image/png": "[encoded data removed]",
      "text/plain": [
       "<Figure size 432x288 with 1 Axes>"
      ]
     },
     "metadata": {
      "needs_background": "light"
     },
     "output_type": "display_data"
    }
   ],
   "source": [
    "# Build the scatter plots for latitude vs. humidity\n",
    "# YOUR CODE HERE\n",
    "x = city_data_df.iloc[:, 2]\n",
    "y = city_data_df.iloc[:, 4]\n",
    "plt.scatter(x,y)\n",
    "# Incorporate the other graph properties\n",
    "# YOUR CODE HERE\n",
    "plt.xlabel('Latitude')\n",
    "plt.ylabel('Humidity')\n",
    "plt.title(\"City Latitude vs. Humidity\")\n",
    "# Save the figure\n",
    "plt.savefig(\"../output_data/Fig2.png\")\n",
    "\n",
    "# Show plot\n",
    "plt.show()\n",
    "\n"
   ]
  },
  {
   "cell_type": "markdown",
   "metadata": {},
   "source": [
    "#### Latitude Vs. Cloudiness"
   ]
  },
  {
   "cell_type": "code",
   "execution_count": 82,
   "metadata": {},
   "outputs": [
    {
     "data": {
      "image/png": "[encoded data removed]",
      "text/plain": [
       "<Figure size 432x288 with 1 Axes>"
      ]
     },
     "metadata": {
      "needs_background": "light"
     },
     "output_type": "display_data"
    }
   ],
   "source": [
    "# Build the scatter plots for latitude vs. cloudiness\n",
    "# YOUR CODE HERE\n",
    "x = city_data_df.iloc[:, 2]\n",
    "y = city_data_df.iloc[:, 5]\n",
    "plt.scatter(x,y)\n",
    "# Incorporate the other graph properties\n",
    "# YOUR CODE HERE\n",
    "plt.xlabel('Latitude')\n",
    "plt.ylabel('Cloudiness')\n",
    "plt.title(\"City Latitude vs. Cloudiness\")\n",
    "# Save the figure\n",
    "plt.savefig(\"../output_data/Fig3.png\")\n",
    "\n",
    "# Show plot\n",
    "plt.show()\n"
   ]
  },
  {
   "cell_type": "markdown",
   "metadata": {},
   "source": [
    "#### Latitude vs. Wind Speed Plot"
   ]
  },
  {
   "cell_type": "code",
   "execution_count": 83,
   "metadata": {},
   "outputs": [
    {
     "data": {
      "image/png": "[encoded data removed]",
      "text/plain": [
       "<Figure size 432x288 with 1 Axes>"
      ]
     },
     "metadata": {
      "needs_background": "light"
     },
     "output_type": "display_data"
    }
   ],
   "source": [
    "# Build the scatter plots for latitude vs. wind speed\n",
    "# YOUR CODE HERE\n",
    "x = city_data_df.iloc[:, 2]\n",
    "y = city_data_df.iloc[:, 6]\n",
    "plt.scatter(x,y)\n",
    "\n",
    "# Incorporate the other graph properties\n",
    "# YOUR CODE HERE\n",
    "plt.xlabel('Latitude')\n",
    "plt.ylabel('Wind Speed')\n",
    "plt.title(\"City Latitude vs. Wind Speed\")\n",
    "# Save the figure\n",
    "plt.savefig(\"../output_data/Fig4.png\")\n",
    "\n",
    "# Show plot\n",
    "plt.show()"
   ]
  },
  {
   "cell_type": "markdown",
   "metadata": {},
   "source": [
    "---\n",
    "\n",
    "## Requirement 2: Compute Linear Regression for Each Relationship\n"
   ]
  },
  {
   "cell_type": "code",
   "execution_count": 25,
   "metadata": {},
   "outputs": [],
   "source": [
    "# Define a function to create Linear Regression plots\n",
    "# YOUR CODE HERE\n",
    "\n",
    "def LR_plot(x_values,y_values):\n",
    "    correlation = sts.pearsonr(x_values,y_values)\n",
    "    \n",
    "    print(f\"\"\"The r-squared value is {round((correlation[0]**2),2)}\"\"\")\n",
    "# Add the linear regression equation and line to plot\n",
    "\n",
    "    (slope, intercept, rvalue, pvalue, stderr) = sts.linregress(x_values, y_values)\n",
    "    regress_values = x_values * slope + intercept\n",
    "    line_eq = \"y = \" + str(round(slope,2)) + \"x + \" + str(round(intercept,2))\n",
    "    plt.scatter(x_values,y_values)\n",
    "    plt.plot(x_values,regress_values,\"r-\")\n",
    "    \n",
    "    return line_eq"
   ]
  },
  {
   "cell_type": "code",
   "execution_count": 26,
   "metadata": {},
   "outputs": [
    {
     "data": {
      "text/html": [
       "<div>\n",
       "<style scoped>\n",
       "    .dataframe tbody tr th:only-of-type {\n",
       "        vertical-align: middle;\n",
       "    }\n",
       "\n",
       "    .dataframe tbody tr th {\n",
       "        vertical-align: top;\n",
       "    }\n",
       "\n",
       "    .dataframe thead th {\n",
       "        text-align: right;\n",
       "    }\n",
       "</style>\n",
       "<table border=\"1\" class=\"dataframe\">\n",
       "  <thead>\n",
       "    <tr style=\"text-align: right;\">\n",
       "      <th></th>\n",
       "      <th>City</th>\n",
       "      <th>Lat</th>\n",
       "      <th>Lng</th>\n",
       "      <th>Max Temp</th>\n",
       "      <th>Humidity</th>\n",
       "      <th>Cloudiness</th>\n",
       "      <th>Wind Speed</th>\n",
       "      <th>Country</th>\n",
       "      <th>Date</th>\n",
       "    </tr>\n",
       "    <tr>\n",
       "      <th>City_ID</th>\n",
       "      <th></th>\n",
       "      <th></th>\n",
       "      <th></th>\n",
       "      <th></th>\n",
       "      <th></th>\n",
       "      <th></th>\n",
       "      <th></th>\n",
       "      <th></th>\n",
       "      <th></th>\n",
       "    </tr>\n",
       "  </thead>\n",
       "  <tbody>\n",
       "    <tr>\n",
       "      <th>0</th>\n",
       "      <td>hilo</td>\n",
       "      <td>19.7297</td>\n",
       "      <td>-155.0900</td>\n",
       "      <td>79.11</td>\n",
       "      <td>76</td>\n",
       "      <td>0</td>\n",
       "      <td>5.75</td>\n",
       "      <td>US</td>\n",
       "      <td>1671301957</td>\n",
       "    </tr>\n",
       "    <tr>\n",
       "      <th>1</th>\n",
       "      <td>puerto ayacucho</td>\n",
       "      <td>5.6639</td>\n",
       "      <td>-67.6236</td>\n",
       "      <td>90.21</td>\n",
       "      <td>44</td>\n",
       "      <td>48</td>\n",
       "      <td>4.21</td>\n",
       "      <td>VE</td>\n",
       "      <td>1671301958</td>\n",
       "    </tr>\n",
       "    <tr>\n",
       "      <th>2</th>\n",
       "      <td>jamestown</td>\n",
       "      <td>42.0970</td>\n",
       "      <td>-79.2353</td>\n",
       "      <td>33.39</td>\n",
       "      <td>59</td>\n",
       "      <td>100</td>\n",
       "      <td>10.36</td>\n",
       "      <td>US</td>\n",
       "      <td>1671301842</td>\n",
       "    </tr>\n",
       "    <tr>\n",
       "      <th>3</th>\n",
       "      <td>nikolskoye</td>\n",
       "      <td>59.7035</td>\n",
       "      <td>30.7861</td>\n",
       "      <td>-4.43</td>\n",
       "      <td>100</td>\n",
       "      <td>65</td>\n",
       "      <td>0.22</td>\n",
       "      <td>RU</td>\n",
       "      <td>1671301961</td>\n",
       "    </tr>\n",
       "    <tr>\n",
       "      <th>7</th>\n",
       "      <td>dudinka</td>\n",
       "      <td>69.4058</td>\n",
       "      <td>86.1778</td>\n",
       "      <td>1.60</td>\n",
       "      <td>89</td>\n",
       "      <td>100</td>\n",
       "      <td>11.86</td>\n",
       "      <td>RU</td>\n",
       "      <td>1671301967</td>\n",
       "    </tr>\n",
       "  </tbody>\n",
       "</table>\n",
       "</div>"
      ],
      "text/plain": [
       "                    City      Lat       Lng  Max Temp  Humidity  Cloudiness  \\\n",
       "City_ID                                                                       \n",
       "0                   hilo  19.7297 -155.0900     79.11        76           0   \n",
       "1        puerto ayacucho   5.6639  -67.6236     90.21        44          48   \n",
       "2              jamestown  42.0970  -79.2353     33.39        59         100   \n",
       "3             nikolskoye  59.7035   30.7861     -4.43       100          65   \n",
       "7                dudinka  69.4058   86.1778      1.60        89         100   \n",
       "\n",
       "         Wind Speed Country        Date  \n",
       "City_ID                                  \n",
       "0              5.75      US  1671301957  \n",
       "1              4.21      VE  1671301958  \n",
       "2             10.36      US  1671301842  \n",
       "3              0.22      RU  1671301961  \n",
       "7             11.86      RU  1671301967  "
      ]
     },
     "execution_count": 26,
     "metadata": {},
     "output_type": "execute_result"
    }
   ],
   "source": [
    "# Create a DataFrame with the Northern Hemisphere data (Latitude >= 0)\n",
    "# YOUR CODE HERE\n",
    "northern_hemi_df = city_data_df.loc[city_data_df[\"Lat\"]>=0]\n",
    "# Display sample data\n",
    "northern_hemi_df.head()"
   ]
  },
  {
   "cell_type": "code",
   "execution_count": 27,
   "metadata": {},
   "outputs": [
    {
     "data": {
      "text/html": [
       "<div>\n",
       "<style scoped>\n",
       "    .dataframe tbody tr th:only-of-type {\n",
       "        vertical-align: middle;\n",
       "    }\n",
       "\n",
       "    .dataframe tbody tr th {\n",
       "        vertical-align: top;\n",
       "    }\n",
       "\n",
       "    .dataframe thead th {\n",
       "        text-align: right;\n",
       "    }\n",
       "</style>\n",
       "<table border=\"1\" class=\"dataframe\">\n",
       "  <thead>\n",
       "    <tr style=\"text-align: right;\">\n",
       "      <th></th>\n",
       "      <th>City</th>\n",
       "      <th>Lat</th>\n",
       "      <th>Lng</th>\n",
       "      <th>Max Temp</th>\n",
       "      <th>Humidity</th>\n",
       "      <th>Cloudiness</th>\n",
       "      <th>Wind Speed</th>\n",
       "      <th>Country</th>\n",
       "      <th>Date</th>\n",
       "    </tr>\n",
       "    <tr>\n",
       "      <th>City_ID</th>\n",
       "      <th></th>\n",
       "      <th></th>\n",
       "      <th></th>\n",
       "      <th></th>\n",
       "      <th></th>\n",
       "      <th></th>\n",
       "      <th></th>\n",
       "      <th></th>\n",
       "      <th></th>\n",
       "    </tr>\n",
       "  </thead>\n",
       "  <tbody>\n",
       "    <tr>\n",
       "      <th>4</th>\n",
       "      <td>arraial do cabo</td>\n",
       "      <td>-22.9661</td>\n",
       "      <td>-42.0278</td>\n",
       "      <td>76.96</td>\n",
       "      <td>83</td>\n",
       "      <td>75</td>\n",
       "      <td>18.41</td>\n",
       "      <td>BR</td>\n",
       "      <td>1671301962</td>\n",
       "    </tr>\n",
       "    <tr>\n",
       "      <th>5</th>\n",
       "      <td>bluff</td>\n",
       "      <td>-46.6000</td>\n",
       "      <td>168.3333</td>\n",
       "      <td>52.81</td>\n",
       "      <td>82</td>\n",
       "      <td>100</td>\n",
       "      <td>14.47</td>\n",
       "      <td>NZ</td>\n",
       "      <td>1671301964</td>\n",
       "    </tr>\n",
       "    <tr>\n",
       "      <th>6</th>\n",
       "      <td>port alfred</td>\n",
       "      <td>-33.5906</td>\n",
       "      <td>26.8910</td>\n",
       "      <td>67.17</td>\n",
       "      <td>91</td>\n",
       "      <td>100</td>\n",
       "      <td>8.03</td>\n",
       "      <td>ZA</td>\n",
       "      <td>1671301965</td>\n",
       "    </tr>\n",
       "    <tr>\n",
       "      <th>13</th>\n",
       "      <td>padang</td>\n",
       "      <td>-0.9492</td>\n",
       "      <td>100.3543</td>\n",
       "      <td>77.05</td>\n",
       "      <td>88</td>\n",
       "      <td>100</td>\n",
       "      <td>3.58</td>\n",
       "      <td>ID</td>\n",
       "      <td>1671301714</td>\n",
       "    </tr>\n",
       "    <tr>\n",
       "      <th>14</th>\n",
       "      <td>carnarvon</td>\n",
       "      <td>-24.8667</td>\n",
       "      <td>113.6333</td>\n",
       "      <td>73.87</td>\n",
       "      <td>71</td>\n",
       "      <td>0</td>\n",
       "      <td>20.36</td>\n",
       "      <td>AU</td>\n",
       "      <td>1671301976</td>\n",
       "    </tr>\n",
       "  </tbody>\n",
       "</table>\n",
       "</div>"
      ],
      "text/plain": [
       "                    City      Lat       Lng  Max Temp  Humidity  Cloudiness  \\\n",
       "City_ID                                                                       \n",
       "4        arraial do cabo -22.9661  -42.0278     76.96        83          75   \n",
       "5                  bluff -46.6000  168.3333     52.81        82         100   \n",
       "6            port alfred -33.5906   26.8910     67.17        91         100   \n",
       "13                padang  -0.9492  100.3543     77.05        88         100   \n",
       "14             carnarvon -24.8667  113.6333     73.87        71           0   \n",
       "\n",
       "         Wind Speed Country        Date  \n",
       "City_ID                                  \n",
       "4             18.41      BR  1671301962  \n",
       "5             14.47      NZ  1671301964  \n",
       "6              8.03      ZA  1671301965  \n",
       "13             3.58      ID  1671301714  \n",
       "14            20.36      AU  1671301976  "
      ]
     },
     "execution_count": 27,
     "metadata": {},
     "output_type": "execute_result"
    }
   ],
   "source": [
    "# Create a DataFrame with the Southern Hemisphere data (Latitude < 0)\n",
    "# YOUR CODE HERE\n",
    "southern_hemi_df = city_data_df.loc[city_data_df[\"Lat\"]<=0]\n",
    "# Display sample data\n",
    "southern_hemi_df.head()"
   ]
  },
  {
   "cell_type": "markdown",
   "metadata": {},
   "source": [
    "###  Temperature vs. Latitude Linear Regression Plot"
   ]
  },
  {
   "cell_type": "code",
   "execution_count": 72,
   "metadata": {},
   "outputs": [
    {
     "name": "stdout",
     "output_type": "stream",
     "text": [
      "The r-squared value is 0.73\n"
     ]
    },
    {
     "data": {
      "text/plain": [
       "Text(0.5, 1.0, 'Northern Temperature vs. Latitude')"
      ]
     },
     "execution_count": 72,
     "metadata": {},
     "output_type": "execute_result"
    },
    {
     "data": {
      "image/png": "[encoded data removed]",
      "text/plain": [
       "<Figure size 432x288 with 1 Axes>"
      ]
     },
     "metadata": {
      "needs_background": "light"
     },
     "output_type": "display_data"
    }
   ],
   "source": [
    "# # Linear regression on Northern Hemisphere\n",
    "Best_fit_line = LR_plot(northern_hemi_df[\"Lat\"], northern_hemi_df[\"Max Temp\"])\n",
    "plt.annotate(Best_fit_line,(-40, 10), color=\"red\", fontsize=15);\n",
    "plt.ylabel('Max Temperature')\n",
    "plt.xlabel('Latitude')\n",
    "plt.title('Northern Temperature vs. Latitude')"
   ]
  },
  {
   "cell_type": "code",
   "execution_count": 73,
   "metadata": {},
   "outputs": [
    {
     "name": "stdout",
     "output_type": "stream",
     "text": [
      "The r-squared value is 0.3\n"
     ]
    },
    {
     "data": {
      "text/plain": [
       "Text(0.5, 1.0, 'Southern Temperature vs. Latitude')"
      ]
     },
     "execution_count": 73,
     "metadata": {},
     "output_type": "execute_result"
    },
    {
     "data": {
      "image/png": "[encoded data removed]",
      "text/plain": [
       "<Figure size 432x288 with 1 Axes>"
      ]
     },
     "metadata": {
      "needs_background": "light"
     },
     "output_type": "display_data"
    }
   ],
   "source": [
    "# Linear regression on Southern Hemisphere\n",
    "South_Best_fit_line = LR_plot(southern_hemi_df[\"Lat\"], southern_hemi_df[\"Max Temp\"])\n",
    "plt.annotate(Best_fit_line,(75, -50), color=\"red\", fontsize=15);\n",
    "plt.ylabel('Max Temperature')\n",
    "plt.xlabel('Latitude')\n",
    "plt.title('Southern Temperature vs. Latitude')"
   ]
  },
  {
   "cell_type": "markdown",
   "metadata": {},
   "source": [
    "**Discussion about the linear relationship:**  In the northern hemisphere there is a strong negative correlation between the variables. In the southern hemisphere, there is a weak positive correlation between temperature and latitude."
   ]
  },
  {
   "cell_type": "markdown",
   "metadata": {},
   "source": [
    "### Humidity vs. Latitude Linear Regression Plot"
   ]
  },
  {
   "cell_type": "code",
   "execution_count": 74,
   "metadata": {},
   "outputs": [
    {
     "name": "stdout",
     "output_type": "stream",
     "text": [
      "The r-squared value is 0.22\n"
     ]
    },
    {
     "data": {
      "text/plain": [
       "Text(0.5, 1.0, 'Northern Humidity vs. Latitude')"
      ]
     },
     "execution_count": 74,
     "metadata": {},
     "output_type": "execute_result"
    },
    {
     "data": {
      "image/png": "[encoded data removed]",
      "text/plain": [
       "<Figure size 432x288 with 1 Axes>"
      ]
     },
     "metadata": {
      "needs_background": "light"
     },
     "output_type": "display_data"
    }
   ],
   "source": [
    "# Northern Hemisphere\n",
    "North_Humid_Best_fit_line = LR_plot(y_values=northern_hemi_df[\"Humidity\"], x_values=northern_hemi_df[\"Lat\"])\n",
    "plt.annotate(Best_fit_line,(45, 20), color=\"red\", fontsize=15);\n",
    "plt.ylabel('Humidity')\n",
    "plt.xlabel('Latitude')\n",
    "plt.title('Northern Humidity vs. Latitude')\n"
   ]
  },
  {
   "cell_type": "code",
   "execution_count": 75,
   "metadata": {},
   "outputs": [
    {
     "name": "stdout",
     "output_type": "stream",
     "text": [
      "The r-squared value is 0.04\n"
     ]
    },
    {
     "data": {
      "text/plain": [
       "Text(0.5, 1.0, 'Southern Humidity vs. Latitude')"
      ]
     },
     "execution_count": 75,
     "metadata": {},
     "output_type": "execute_result"
    },
    {
     "data": {
      "image/png": "[encoded data removed]",
      "text/plain": [
       "<Figure size 432x288 with 1 Axes>"
      ]
     },
     "metadata": {
      "needs_background": "light"
     },
     "output_type": "display_data"
    }
   ],
   "source": [
    "# Southern Hemisphere\n",
    "South_Humid_Best_fit_line = LR_plot(y_values=southern_hemi_df[\"Humidity\"], x_values=southern_hemi_df[\"Lat\"])\n",
    "plt.annotate(Best_fit_line,(-25, 15), color=\"red\", fontsize=15);\n",
    "plt.ylabel('Humidity')\n",
    "plt.xlabel('Latitude')\n",
    "plt.title('Southern Humidity vs. Latitude')"
   ]
  },
  {
   "cell_type": "markdown",
   "metadata": {},
   "source": [
    "**Discussion about the linear relationship:** In the northern hemisphere there is a weak positive correlation between humidity and latitude. In the southern hemisphere there is no correlation. "
   ]
  },
  {
   "cell_type": "markdown",
   "metadata": {},
   "source": [
    "### Cloudiness vs. Latitude Linear Regression Plot"
   ]
  },
  {
   "cell_type": "code",
   "execution_count": 76,
   "metadata": {},
   "outputs": [
    {
     "name": "stdout",
     "output_type": "stream",
     "text": [
      "The r-squared value is 0.02\n"
     ]
    },
    {
     "data": {
      "text/plain": [
       "Text(0.5, 1.0, 'Northern Cloudiness vs. Latitude')"
      ]
     },
     "execution_count": 76,
     "metadata": {},
     "output_type": "execute_result"
    },
    {
     "data": {
      "image/png": "[encoded data removed]",
      "text/plain": [
       "<Figure size 432x288 with 1 Axes>"
      ]
     },
     "metadata": {
      "needs_background": "light"
     },
     "output_type": "display_data"
    }
   ],
   "source": [
    "# Northern Hemisphere\n",
    "North_Cloud_Best_fit_line = LR_plot(y_values=northern_hemi_df[\"Cloudiness\"], x_values=northern_hemi_df[\"Lat\"])\n",
    "plt.annotate(Best_fit_line,(45, 20), color=\"red\", fontsize=15);\n",
    "plt.ylabel('Cloudiness')\n",
    "plt.xlabel('Latitude')\n",
    "plt.title('Northern Cloudiness vs. Latitude')"
   ]
  },
  {
   "cell_type": "code",
   "execution_count": 77,
   "metadata": {},
   "outputs": [
    {
     "name": "stdout",
     "output_type": "stream",
     "text": [
      "The r-squared value is 0.01\n"
     ]
    },
    {
     "data": {
      "text/plain": [
       "Text(0.5, 1.0, 'Northern Cloudiness vs. Latitude')"
      ]
     },
     "execution_count": 77,
     "metadata": {},
     "output_type": "execute_result"
    },
    {
     "data": {
      "image/png": "[encoded data removed]",
      "text/plain": [
       "<Figure size 432x288 with 1 Axes>"
      ]
     },
     "metadata": {
      "needs_background": "light"
     },
     "output_type": "display_data"
    }
   ],
   "source": [
    "# Southern Hemisphere\n",
    "South_Cloud_Best_fit_line = LR_plot(y_values=southern_hemi_df[\"Cloudiness\"], x_values=southern_hemi_df[\"Lat\"])\n",
    "plt.annotate(Best_fit_line,(-55, 15), color=\"red\", fontsize=15);\n",
    "plt.ylabel('Cloudiness')\n",
    "plt.xlabel('Latitude')\n",
    "plt.title('Northern Cloudiness vs. Latitude')"
   ]
  },
  {
   "cell_type": "markdown",
   "metadata": {},
   "source": [
    "**Discussion about the linear relationship:** There is a no correlation between cloudiness and latitute in both hemispheres."
   ]
  },
  {
   "cell_type": "markdown",
   "metadata": {},
   "source": [
    "### Wind Speed vs. Latitude Linear Regression Plot"
   ]
  },
  {
   "cell_type": "code",
   "execution_count": 78,
   "metadata": {},
   "outputs": [
    {
     "name": "stdout",
     "output_type": "stream",
     "text": [
      "The r-squared value is 0.01\n"
     ]
    },
    {
     "data": {
      "text/plain": [
       "Text(0.5, 1.0, 'Northern Wind Speed vs. Latitude')"
      ]
     },
     "execution_count": 78,
     "metadata": {},
     "output_type": "execute_result"
    },
    {
     "data": {
      "image/png": "[encoded data removed]",
      "text/plain": [
       "<Figure size 432x288 with 1 Axes>"
      ]
     },
     "metadata": {
      "needs_background": "light"
     },
     "output_type": "display_data"
    }
   ],
   "source": [
    "# Northern Hemisphere\n",
    "North_Wind_Best_fit_line = LR_plot(y_values=northern_hemi_df[\"Wind Speed\"], x_values=northern_hemi_df[\"Lat\"])\n",
    "plt.annotate(Best_fit_line,(45, 35), color=\"red\", fontsize=15);\n",
    "plt.ylabel('Wind Speed')\n",
    "plt.xlabel('Latitude')\n",
    "plt.title('Northern Wind Speed vs. Latitude')"
   ]
  },
  {
   "cell_type": "code",
   "execution_count": 79,
   "metadata": {},
   "outputs": [
    {
     "name": "stdout",
     "output_type": "stream",
     "text": [
      "The r-squared value is 0.07\n"
     ]
    },
    {
     "data": {
      "text/plain": [
       "Text(0.5, 1.0, 'Southern Wind Speed vs. Latitude')"
      ]
     },
     "execution_count": 79,
     "metadata": {},
     "output_type": "execute_result"
    },
    {
     "data": {
      "image/png": "[encoded data removed]",
      "text/plain": [
       "<Figure size 432x288 with 1 Axes>"
      ]
     },
     "metadata": {
      "needs_background": "light"
     },
     "output_type": "display_data"
    }
   ],
   "source": [
    "# Southern Hemisphere\n",
    "South_Wind_Best_fit_line = LR_plot(y_values=southern_hemi_df[\"Wind Speed\"], x_values=southern_hemi_df[\"Lat\"])\n",
    "plt.annotate(Best_fit_line,(-25, 22), color=\"red\", fontsize=15);\n",
    "plt.ylabel('Wind Speed')\n",
    "plt.xlabel('Latitude')\n",
    "plt.title('Southern Wind Speed vs. Latitude')"
   ]
  },
  {
   "cell_type": "markdown",
   "metadata": {},
   "source": [
    "**Discussion about the linear relationship:** There is a no correlation between wind speed an latitude in the northern hemisphere. And a weak negative correlation in the southern hemisphere."
   ]
  },
  {
   "cell_type": "code",
   "execution_count": null,
   "metadata": {},
   "outputs": [],
   "source": []
  }
 ],
 "metadata": {
  "anaconda-cloud": {},
  "kernel_info": {
   "name": "python3"
  },
  "kernelspec": {
   "display_name": "Python 3 (ipykernel)",
   "language": "python",
   "name": "python3"
  },
  "language_info": {
   "codemirror_mode": {
    "name": "ipython",
    "version": 3
   },
   "file_extension": ".py",
   "mimetype": "text/x-python",
   "name": "python",
   "nbconvert_exporter": "python",
   "pygments_lexer": "ipython3",
   "version": "3.9.12"
  },
  "latex_envs": {
   "LaTeX_envs_menu_present": true,
   "autoclose": false,
   "autocomplete": true,
   "bibliofile": "biblio.bib",
   "cite_by": "apalike",
   "current_citInitial": 1,
   "eqLabelWithNumbers": true,
   "eqNumInitial": 1,
   "hotkeys": {
    "equation": "Ctrl-E",
    "itemize": "Ctrl-I"
   },
   "labels_anchors": false,
   "latex_user_defs": false,
   "report_style_numbering": false,
   "user_envs_cfg": false
  },
  "nteract": {
   "version": "0.12.3"
  }
 },
 "nbformat": 4,
 "nbformat_minor": 4
}
